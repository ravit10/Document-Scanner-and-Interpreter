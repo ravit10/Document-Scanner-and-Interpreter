{
 "cells": [
  {
   "cell_type": "markdown",
   "metadata": {},
   "source": [
    "### Import packages"
   ]
  },
  {
   "cell_type": "code",
   "execution_count": 35,
   "metadata": {},
   "outputs": [],
   "source": [
    "import numpy as np\n",
    "import cv2\n",
    "import imutils\n",
    "from imutils.perspective import four_point_transform\n",
    "from imutils import contours as cnts"
   ]
  },
  {
   "cell_type": "markdown",
   "metadata": {},
   "source": [
    "### Answer Key"
   ]
  },
  {
   "cell_type": "code",
   "execution_count": 3,
   "metadata": {},
   "outputs": [],
   "source": [
    "ANSWER_KEY = {0: 1, 1: 4, 2: 0, 3: 3, 4: 1}"
   ]
  },
  {
   "cell_type": "markdown",
   "metadata": {},
   "source": [
    "### Edge Detection"
   ]
  },
  {
   "cell_type": "code",
   "execution_count": 168,
   "metadata": {},
   "outputs": [],
   "source": [
    "# load the image, convert it to grayscale, blur it\n",
    "# slightly, then find edges\n",
    "image = cv2.imread('optical-mark-recognition/images/test_07.png')\n",
    "orig = image.copy()\n",
    "gray = cv2.cvtColor(image, cv2.COLOR_BGR2GRAY)\n",
    "blur = cv2.GaussianBlur(gray, (5,5), 0)\n",
    "edged = cv2.Canny(blur, 75, 200)\n",
    "\n",
    "# display the document outline\n",
    "cv2.imshow('Original', image)\n",
    "cv2.imshow('Edged', edged)\n",
    "cv2.waitKey(0)\n",
    "cv2.destroyAllWindows()"
   ]
  },
  {
   "cell_type": "markdown",
   "metadata": {},
   "source": [
    "### Mark contours (outline) on the OMR sheet"
   ]
  },
  {
   "cell_type": "code",
   "execution_count": 169,
   "metadata": {},
   "outputs": [],
   "source": [
    "# find contours in the edge map, then initialize\n",
    "# the contour that corresponds to the document\n",
    "contours = cv2.findContours(edged.copy(), cv2.RETR_EXTERNAL, cv2.CHAIN_APPROX_SIMPLE)\n",
    "contours = contours[0] if imutils.is_cv2() else contours[1]\n",
    "docuContour = None\n",
    "\n",
    "# ensure that at least one contour was found\n",
    "if len(contours) > 0:\n",
    "    # sort the contours according to their size in descending order\n",
    "    contours = sorted(contours, key = cv2.contourArea, reverse = True)\n",
    "    \n",
    "    # loop over the sorted contours\n",
    "    for c in contours:\n",
    "        # approximate the contour points\n",
    "        peri = cv2.arcLength(c, True)\n",
    "        approx = cv2.approxPolyDP(c, 0.02 * peri, True)\n",
    "        \n",
    "        # if the approximated contour has four points,\n",
    "        # then we can assume we have found the OMR sheet\n",
    "        if len(approx) == 4:\n",
    "            docuContour = approx\n",
    "            break\n",
    "            \n",
    "# Display the found contour\n",
    "sheetOutline_img = image.copy()\n",
    "cv2.drawContours(sheetOutline_img, [docuContour], -1, (0, 0, 255), 2)\n",
    "cv2.imshow('Outline', sheetOutline_img)\n",
    "cv2.waitKey(0)\n",
    "cv2.destroyAllWindows()"
   ]
  },
  {
   "cell_type": "markdown",
   "metadata": {},
   "source": [
    "### Apply Perspective Transform to get top-view angle"
   ]
  },
  {
   "cell_type": "code",
   "execution_count": 170,
   "metadata": {},
   "outputs": [],
   "source": [
    "# apply a four point perspective transform to both the original image \n",
    "# and grayscale image to obtain a top-down birds eye view of the paper\n",
    "orig_transform = four_point_transform(image, docuContour.reshape(4,2))\n",
    "warped = four_point_transform(gray, docuContour.reshape(4,2))\n",
    "\n",
    "# Display\n",
    "cv2.imshow('Original Transformed', orig_transform)\n",
    "cv2.imshow('Grayscale Transformed', warped)\n",
    "cv2.waitKey(0)\n",
    "cv2.destroyAllWindows()"
   ]
  },
  {
   "cell_type": "markdown",
   "metadata": {},
   "source": [
    "### Thresholding/segmenting the foreground from the background"
   ]
  },
  {
   "cell_type": "code",
   "execution_count": 175,
   "metadata": {},
   "outputs": [],
   "source": [
    "# apply Otsu's thresholding method to binarize the warped piece of paper\n",
    "retValue, thresh = cv2.threshold(warped, 0, 255, cv2.THRESH_BINARY_INV | cv2.THRESH_OTSU)\n",
    "\n",
    "# Display\n",
    "cv2.imshow('Segmented', thresh)\n",
    "cv2.waitKey(0)\n",
    "cv2.destroyAllWindows()"
   ]
  },
  {
   "cell_type": "markdown",
   "metadata": {},
   "source": [
    "### Find each answer bubble contour (outline) on the OMR sheet"
   ]
  },
  {
   "cell_type": "code",
   "execution_count": 172,
   "metadata": {},
   "outputs": [],
   "source": [
    "# find contours in the thresholded image, then initialize\n",
    "# the list of contours that correspond to the bubbles\n",
    "contours = cv2.findContours(thresh.copy(), cv2.RETR_EXTERNAL, cv2.CHAIN_APPROX_SIMPLE)\n",
    "contours = contours[0] if imutils.is_cv2() else contours[1]\n",
    "bubbleContours = []\n",
    "\n",
    "# loop over the contours\n",
    "for c in contours:\n",
    "    # compute the bounding box of the contour, then use the bounding box to derive the aspect ratio\n",
    "    (x, y, w, h) = cv2.boundingRect(c)\n",
    "    aspectRatio = w / float(h)\n",
    "    \n",
    "    # in order to label the contour as a bubble, region should be sufficiently wide, \n",
    "    # sufficiently tall, and have an aspect ratio approximately equal to 1\n",
    "    if w >=20 and h >= 20 and aspectRatio >= 0.9 and aspectRatio <= 1.1:\n",
    "        bubbleContours.append(c)\n",
    "\n",
    "# Display\n",
    "bubbleOutline_img = orig_transform.copy()\n",
    "cv2.drawContours(bubbleOutline_img, bubbleContours, -1, (0, 0, 255), 2)\n",
    "cv2.imshow('Answer Bubble Outlined', bubbleOutline_img)\n",
    "cv2.waitKey(0)\n",
    "cv2.destroyAllWindows()"
   ]
  },
  {
   "cell_type": "markdown",
   "metadata": {},
   "source": [
    "### Detect right/wrong marked answer bubbles"
   ]
  },
  {
   "cell_type": "code",
   "execution_count": 173,
   "metadata": {},
   "outputs": [],
   "source": [
    "# Threshold for checking if an answer is bubbled or not\n",
    "BUBBLED_THRESHOLD = 650.0\n",
    "\n",
    "# sort the question contours top-to-bottom, then initialize the total number of correct answers\n",
    "# Note: \"boundingBoxes\" is a return value that is not required.\n",
    "bubbleContours, boundingBoxes = cnts.sort_contours(bubbleContours, method = 'top-to-bottom')\n",
    "correct = 0\n",
    "\n",
    "# each question has 5 possible answers, to loop over the\n",
    "# question in batches of 5\n",
    "for (ques, ansRowIndex) in enumerate(np.arange(0, len(bubbleContours), 5)):\n",
    "    # sort the contours for the current question from left to right, \n",
    "    # then initialize the index of the bubbled answer\n",
    "    # Note: \"boundingBoxes\" is a return value that is not required.\n",
    "    # By default, it sorts \"left-to-right\" if method is not specified.\n",
    "    sorted_contours, boundingBoxes = cnts.sort_contours(bubbleContours[ansRowIndex : ansRowIndex+5])\n",
    "    bubbled = {}\n",
    "    \n",
    "    # loop over the sorted contours\n",
    "    for (bubbleIndex, c) in enumerate(sorted_contours):\n",
    "        # construct a mask that reveals only the current \"bubble\" for the question\n",
    "        mask = np.zeros(thresh.shape, dtype='uint8')\n",
    "        cv2.drawContours(mask, [c], -1, 255, -1)\n",
    "        \n",
    "        # apply the mask to the thresholded image, \n",
    "        # then count the number of non-zero pixels in the bubble area\n",
    "        mask = cv2.bitwise_and(thresh, thresh, mask = mask)\n",
    "        total = cv2.countNonZero(mask)\n",
    "                \n",
    "        # if the current total has a larger number of total non-zero pixels\n",
    "        # than the pre-defined threshold, then we are examining the currently bubbled-in answer\n",
    "        if total > BUBBLED_THRESHOLD:\n",
    "            bubbled[bubbleIndex] = total\n",
    "        \n",
    "    # Get the list of bubbled indices (keys) for a question\n",
    "    bubbledList = [*bubbled]\n",
    "    \n",
    "    # Get the index of the *correct* answer as per the ANSWER_KEY\n",
    "    k = ANSWER_KEY[ques]\n",
    "    \n",
    "    # check to see if any bubble is circled, if not then outline it as Unanswered (Orange)\n",
    "    if len(bubbledList) == 0:\n",
    "        cv2.drawContours(orig_transform, [sorted_contours[i] for i in range(0,5)], -1, (0, 165, 255), 3)\n",
    "        continue\n",
    "    # check to see if more than one bubbled is filled and outline it as incorrect (Red)\n",
    "    elif len(bubbledList) > 1:\n",
    "        cv2.drawContours(orig_transform, [sorted_contours[i] for i in bubbledList], -1, (0, 0, 255), 3)\n",
    "        continue\n",
    "    else:\n",
    "        # check to see if the bubbled answer is correct\n",
    "        if k == bubbledList[0]:\n",
    "            correct += 1\n",
    "        else:\n",
    "            # draw the outline of the wrongly marked answer (Red) on the OMR sheet\n",
    "            cv2.drawContours(orig_transform, [sorted_contours[i] for i in bubbledList], -1, (0, 0, 255), 3)\n",
    "            \n",
    "    # draw the outline of the correct answer (Green) on the OMR sheet\n",
    "    cv2.drawContours(orig_transform, [sorted_contours[k]], -1, (0, 255, 0), 3)"
   ]
  },
  {
   "cell_type": "markdown",
   "metadata": {},
   "source": [
    "### Display the final result"
   ]
  },
  {
   "cell_type": "code",
   "execution_count": 176,
   "metadata": {},
   "outputs": [],
   "source": [
    "# Calculate the final score based on the correct responses\n",
    "score = (correct / 5.0) * 100\n",
    "cv2.putText(orig_transform, 'Final Score = {:.2f}%'.format(score), (10, 20), cv2.FONT_HERSHEY_SIMPLEX, 0.5, (255, 0, 0), 2)\n",
    "cv2.imshow('Original', image)\n",
    "cv2.imshow('Result', orig_transform)\n",
    "cv2.waitKey(0)\n",
    "cv2.destroyAllWindows()"
   ]
  },
  {
   "cell_type": "code",
   "execution_count": null,
   "metadata": {},
   "outputs": [],
   "source": []
  }
 ],
 "metadata": {
  "kernelspec": {
   "display_name": "Python 3",
   "language": "python",
   "name": "python3"
  },
  "language_info": {
   "codemirror_mode": {
    "name": "ipython",
    "version": 3
   },
   "file_extension": ".py",
   "mimetype": "text/x-python",
   "name": "python",
   "nbconvert_exporter": "python",
   "pygments_lexer": "ipython3",
   "version": "3.6.4"
  }
 },
 "nbformat": 4,
 "nbformat_minor": 2
}
